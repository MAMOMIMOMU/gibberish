{
 "cells": [
  {
   "cell_type": "markdown",
   "metadata": {},
   "source": [
    "# データの前処理"
   ]
  },
  {
   "cell_type": "code",
   "execution_count": 9,
   "metadata": {},
   "outputs": [],
   "source": []
  },
  {
   "cell_type": "markdown",
   "metadata": {},
   "source": [
    "## StandardScaler\n",
    "\n",
    "各特徴量ごとに平均0, 分散1になるよう標準化をする。\n",
    "\n",
    "[公式文書](https://scikit-learn.org/stable/modules/generated/sklearn.preprocessing.StandardScaler.html)"
   ]
  },
  {
   "cell_type": "code",
   "execution_count": 27,
   "metadata": {},
   "outputs": [],
   "source": [
    "# データの用意\n",
    "import numpy as np \n",
    "X = [[-3, -2, -1, 0, 1, 2, 3], \n",
    "     [-30, -20, -10, 0, 10, 20, 30]]"
   ]
  },
  {
   "cell_type": "code",
   "execution_count": 28,
   "metadata": {
    "tags": []
   },
   "outputs": [
    {
     "output_type": "stream",
     "name": "stdout",
     "text": "[-16.5 -11.   -5.5   0.    5.5  11.   16.5]\n[182.25  81.    20.25   0.    20.25  81.   182.25]\n"
    }
   ],
   "source": [
    "from sklearn.preprocessing import StandardScaler\n",
    "\n",
    "scaler = StandardScaler()\n",
    "scaler.fit(X)\n",
    "print(scaler.mean_) # 各特徴量(列)の平均\n",
    "print(scaler.var_) # 各特徴量(列)の分散"
   ]
  },
  {
   "cell_type": "code",
   "execution_count": 29,
   "metadata": {},
   "outputs": [
    {
     "output_type": "execute_result",
     "data": {
      "text/plain": "array([[ 1.,  1.,  1.,  0., -1., -1., -1.],\n       [-1., -1., -1.,  0.,  1.,  1.,  1.]])"
     },
     "metadata": {},
     "execution_count": 29
    }
   ],
   "source": [
    "# 変換\n",
    "\n",
    "scaled_data = scaler.transform(X)\n",
    "\n",
    "scaled_data # ちょっと違和感のある結果"
   ]
  },
  {
   "cell_type": "code",
   "execution_count": 20,
   "metadata": {
    "tags": []
   },
   "outputs": [
    {
     "output_type": "stream",
     "name": "stdout",
     "text": "1.0\n-1.0\n"
    }
   ],
   "source": [
    "# 1列目でちゃんと標準化できてるか見てみる\n",
    "print((-3 + 16.5)/np.sqrt(182.25))\n",
    "print((-30 + 16.5)/np.sqrt(182.25))"
   ]
  },
  {
   "cell_type": "markdown",
   "metadata": {},
   "source": [
    "## RobustScaler\n",
    "\n",
    "各列に対して、中央値を引いてIQRで割る。\n",
    "\n",
    "[公式文書](https://scikit-learn.org/stable/modules/generated/sklearn.preprocessing.RobustScaler.html)"
   ]
  },
  {
   "cell_type": "code",
   "execution_count": 21,
   "metadata": {},
   "outputs": [],
   "source": [
    "# データの用意\n",
    "import numpy as np \n",
    "X = [[ 1., -2.,  2.],\n",
    "     [-2.,  1.,  3.],\n",
    "     [ 4.,  1., -2.]]"
   ]
  },
  {
   "cell_type": "code",
   "execution_count": 23,
   "metadata": {},
   "outputs": [
    {
     "output_type": "execute_result",
     "data": {
      "text/plain": "RobustScaler(copy=True, quantile_range=(25.0, 75.0), with_centering=True,\n             with_scaling=True)"
     },
     "metadata": {},
     "execution_count": 23
    }
   ],
   "source": [
    "from sklearn.preprocessing import RobustScaler\n",
    "\n",
    "scaler = RobustScaler()\n",
    "scaler.fit(X)"
   ]
  },
  {
   "cell_type": "code",
   "execution_count": 24,
   "metadata": {},
   "outputs": [
    {
     "output_type": "execute_result",
     "data": {
      "text/plain": "array([[ 0. , -2. ,  0. ],\n       [-1. ,  0. ,  0.4],\n       [ 1. ,  0. , -1.6]])"
     },
     "metadata": {},
     "execution_count": 24
    }
   ],
   "source": [
    "scaled_X = scaler.transform(X)\n",
    "\n",
    "scaled_X"
   ]
  },
  {
   "cell_type": "markdown",
   "metadata": {},
   "source": [
    "## MinMaxScaler\n",
    "\n",
    "各列ごとに最大が1, 最小が0になるように変換する。どんな演算をしているのかは公式文書がわかりやすい。\n",
    "\n",
    "[公式文書](https://scikit-learn.org/stable/modules/generated/sklearn.preprocessing.MinMaxScaler.html?highlight=minmax#sklearn.preprocessing.MinMaxScaler)"
   ]
  },
  {
   "cell_type": "code",
   "execution_count": 34,
   "metadata": {},
   "outputs": [],
   "source": [
    "# データの用意\n",
    "X = [[-1, 2],\n",
    "     [-0.5, 6],\n",
    "     [0, 10], \n",
    "     [1, 18]]"
   ]
  },
  {
   "cell_type": "code",
   "execution_count": 35,
   "metadata": {},
   "outputs": [
    {
     "output_type": "execute_result",
     "data": {
      "text/plain": "MinMaxScaler(copy=True, feature_range=(0, 1))"
     },
     "metadata": {},
     "execution_count": 35
    }
   ],
   "source": [
    "from sklearn.preprocessing import MinMaxScaler\n",
    "\n",
    "scaler = MinMaxScaler()\n",
    "\n",
    "scaler.fit(X)"
   ]
  },
  {
   "cell_type": "code",
   "execution_count": 36,
   "metadata": {},
   "outputs": [
    {
     "output_type": "execute_result",
     "data": {
      "text/plain": "array([[0.  , 0.  ],\n       [0.25, 0.25],\n       [0.5 , 0.5 ],\n       [1.  , 1.  ]])"
     },
     "metadata": {},
     "execution_count": 36
    }
   ],
   "source": [
    "scaler.transform(X)"
   ]
  },
  {
   "cell_type": "markdown",
   "metadata": {},
   "source": [
    "## Normalizer\n",
    "\n",
    "各データごとに規格化を行う。各特徴量ごとではなく、各データごとという点に注意。\n",
    "\n",
    "[公式文書](https://scikit-learn.org/stable/modules/generated/sklearn.preprocessing.Normalizer.html?highlight=normalizer#sklearn.preprocessing.Normalizer)"
   ]
  },
  {
   "cell_type": "code",
   "execution_count": 39,
   "metadata": {},
   "outputs": [],
   "source": [
    "# データの用意\n",
    "\n",
    "X = [[4, 1, 2, 2],\n",
    "     [1, 3, 9, 3],\n",
    "     [5, 7, 5, 1]]\n",
    "     "
   ]
  },
  {
   "cell_type": "code",
   "execution_count": 40,
   "metadata": {},
   "outputs": [
    {
     "output_type": "execute_result",
     "data": {
      "text/plain": "Normalizer(copy=True, norm='l2')"
     },
     "metadata": {},
     "execution_count": 40
    }
   ],
   "source": [
    "from sklearn.preprocessing import Normalizer\n",
    "\n",
    "scaler = Normalizer()\n",
    "\n",
    "scaler.fit(X)"
   ]
  },
  {
   "cell_type": "code",
   "execution_count": 41,
   "metadata": {},
   "outputs": [
    {
     "output_type": "execute_result",
     "data": {
      "text/plain": "array([[0.8, 0.2, 0.4, 0.4],\n       [0.1, 0.3, 0.9, 0.3],\n       [0.5, 0.7, 0.5, 0.1]])"
     },
     "metadata": {},
     "execution_count": 41
    }
   ],
   "source": [
    "scaler.transform(X)"
   ]
  },
  {
   "cell_type": "code",
   "execution_count": 50,
   "metadata": {},
   "outputs": [
    {
     "output_type": "execute_result",
     "data": {
      "text/plain": "array([[0.8, 0.2, 0.4, 0.4],\n       [0.1, 0.3, 0.9, 0.3],\n       [0.5, 0.7, 0.5, 0.1]])"
     },
     "metadata": {},
     "execution_count": 50
    }
   ],
   "source": [
    "# 各データごとの規格化とはどういうことか\n",
    "import numpy as np \n",
    "\n",
    "X = np.array([[4, 1, 2, 2],\n",
    "              [1, 3, 9, 3],\n",
    "              [5, 7, 5, 1]])\n",
    "\n",
    "norm = np.zeros((X.shape[0], 1))\n",
    "\n",
    "for i in range(X.shape[0]):\n",
    "    sq_sum = 0\n",
    "    for j in range(X.shape[1]):\n",
    "        norm[i] += X[i, j]**2\n",
    "\n",
    "norm = np.sqrt(norm)\n",
    "\n",
    "X / norm"
   ]
  },
  {
   "cell_type": "markdown",
   "metadata": {},
   "source": [
    "$$\\frac{1}{N} \\Sigma^{N}_{n=1}{(u^T_1x_n - u^T_1x_n)}^2$$"
   ]
  },
  {
   "cell_type": "code",
   "execution_count": 60,
   "metadata": {},
   "outputs": [
    {
     "output_type": "execute_result",
     "data": {
      "text/plain": "3969"
     },
     "metadata": {},
     "execution_count": 60
    }
   ],
   "source": [
    "\n",
    "# u = np.array([1, 5, 3, 8, 2, 3, 6])\n",
    "\n",
    "# x = np.array([3, 6, 2, 3, 5, 6, 9])\n",
    "\n",
    "# av = np.array([2, 4, 7, 2, 4, 3, 1])\n",
    "\n",
    "# (u.T.dot(x) - u.T.dot(av)).T * (u.T.dot(x) - u.T.dot(av))"
   ]
  },
  {
   "cell_type": "code",
   "execution_count": 61,
   "metadata": {},
   "outputs": [
    {
     "output_type": "execute_result",
     "data": {
      "text/plain": "3969"
     },
     "metadata": {},
     "execution_count": 61
    }
   ],
   "source": [
    "# (u.T.dot(x) - u.T.dot(av)) * (u.T.dot(x) - u.T.dot(av)).T"
   ]
  },
  {
   "cell_type": "code",
   "execution_count": null,
   "metadata": {},
   "outputs": [],
   "source": []
  }
 ],
 "metadata": {
  "language_info": {
   "codemirror_mode": {
    "name": "ipython",
    "version": 3
   },
   "file_extension": ".py",
   "mimetype": "text/x-python",
   "name": "python",
   "nbconvert_exporter": "python",
   "pygments_lexer": "ipython3",
   "version": "3.7.7-final"
  },
  "orig_nbformat": 2,
  "kernelspec": {
   "name": "python37764bitstatisticsconda612f86d1608142cbba34fcd3705cfeb9",
   "display_name": "Python 3.7.7 64-bit ('Statistics': conda)"
  }
 },
 "nbformat": 4,
 "nbformat_minor": 2
}