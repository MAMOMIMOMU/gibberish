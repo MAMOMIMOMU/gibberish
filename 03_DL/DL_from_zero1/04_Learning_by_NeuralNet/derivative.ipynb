{
 "metadata": {
  "language_info": {
   "codemirror_mode": {
    "name": "ipython",
    "version": 3
   },
   "file_extension": ".py",
   "mimetype": "text/x-python",
   "name": "python",
   "nbconvert_exporter": "python",
   "pygments_lexer": "ipython3",
   "version": "3.7.7-final"
  },
  "orig_nbformat": 2,
  "kernelspec": {
   "name": "python37764bitstatisticsconda612f86d1608142cbba34fcd3705cfeb9",
   "display_name": "Python 3.7.7 64-bit ('Statistics': conda)"
  }
 },
 "nbformat": 4,
 "nbformat_minor": 2,
 "cells": [
  {
   "cell_type": "code",
   "execution_count": 3,
   "metadata": {},
   "outputs": [],
   "source": [
    "# 中心差分\n",
    "def derivative(f, x):\n",
    "    h = 1e-4\n",
    "    return (f(x + h) - f(x - h)) / 2 * h"
   ]
  },
  {
   "cell_type": "code",
   "execution_count": 21,
   "metadata": {},
   "outputs": [],
   "source": [
    "import numpy as np \n",
    "\n",
    "def gradient(f, x):\n",
    "    h = 1e-4\n",
    "    grad = np.zeros_like(x)\n",
    "\n",
    "    for i in range(x.size):\n",
    "        temp = x[i]\n",
    "        x[i] = temp + h\n",
    "        fh1 = f(x)\n",
    "        x[i] = temp - h\n",
    "        fh2 = f(x)\n",
    "        grad[i] = (fh1 - fh2) / (2 * h)\n",
    "        x[i] = temp\n",
    "    return grad"
   ]
  },
  {
   "cell_type": "code",
   "execution_count": 22,
   "metadata": {
    "tags": []
   },
   "outputs": [
    {
     "output_type": "execute_result",
     "data": {
      "text/plain": "array([6., 8.])"
     },
     "metadata": {},
     "execution_count": 22
    }
   ],
   "source": [
    "from visualization import function\n",
    "\n",
    "gradient(function, np.array([3.0, 4.0]))"
   ]
  },
  {
   "cell_type": "code",
   "execution_count": null,
   "metadata": {},
   "outputs": [],
   "source": []
  }
 ]
}