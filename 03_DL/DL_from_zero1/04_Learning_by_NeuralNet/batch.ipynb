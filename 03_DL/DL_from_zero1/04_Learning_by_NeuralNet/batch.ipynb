{
 "metadata": {
  "language_info": {
   "codemirror_mode": {
    "name": "ipython",
    "version": 3
   },
   "file_extension": ".py",
   "mimetype": "text/x-python",
   "name": "python",
   "nbconvert_exporter": "python",
   "pygments_lexer": "ipython3",
   "version": "3.7.7-final"
  },
  "orig_nbformat": 2,
  "kernelspec": {
   "name": "python37764bitstatisticsconda612f86d1608142cbba34fcd3705cfeb9",
   "display_name": "Python 3.7.7 64-bit ('Statistics': conda)"
  }
 },
 "nbformat": 4,
 "nbformat_minor": 2,
 "cells": [
  {
   "cell_type": "code",
   "execution_count": 1,
   "metadata": {},
   "outputs": [],
   "source": [
    "# dataを入力し、その中からランダムにbatch_size個の要素を選び返却\n",
    "def mini_batch(data):\n",
    "    batch_size = 10\n",
    "    data_size = data.shape[0]\n",
    "    data_index = np.random.choice(data_size, batch_size)\n",
    "    return data[data_index]"
   ]
  },
  {
   "cell_type": "code",
   "execution_count": null,
   "metadata": {},
   "outputs": [],
   "source": []
  }
 ]
}