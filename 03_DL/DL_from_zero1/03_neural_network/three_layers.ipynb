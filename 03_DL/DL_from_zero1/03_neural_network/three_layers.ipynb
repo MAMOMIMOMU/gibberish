{
 "metadata": {
  "language_info": {
   "codemirror_mode": {
    "name": "ipython",
    "version": 3
   },
   "file_extension": ".py",
   "mimetype": "text/x-python",
   "name": "python",
   "nbconvert_exporter": "python",
   "pygments_lexer": "ipython3",
   "version": "3.7.7-final"
  },
  "orig_nbformat": 2,
  "kernelspec": {
   "name": "python37764bitstatisticsconda612f86d1608142cbba34fcd3705cfeb9",
   "display_name": "Python 3.7.7 64-bit ('Statistics': conda)"
  }
 },
 "nbformat": 4,
 "nbformat_minor": 2,
 "cells": [
  {
   "cell_type": "code",
   "execution_count": 21,
   "metadata": {},
   "outputs": [],
   "source": [
    "from activation_func import sigmoid\n",
    "import numpy as np\n"
   ]
  },
  {
   "cell_type": "code",
   "execution_count": 22,
   "metadata": {},
   "outputs": [],
   "source": [
    "# 手動で作成した各層の重みやバイアス\n",
    "## 以下の値で初期化\n",
    "\n",
    "def init_network():\n",
    "    nw = {}\n",
    "    # 入力データ1*2\n",
    "    nw['w1'] = np.array([[0.1, 0.3, 0.5], [0.2, 0.4, 0.6]]) # 2*3\n",
    "    nw['b1'] = np.array([0.1, 0.2, 0.3])\n",
    "    nw['w2'] = np.array([[0.1, 0.4], [0.2, 0.5], [0.3, 0.6]]) #3*2\n",
    "    nw['b2'] = np.array([0.1, 0.2])\n",
    "    nw['w3'] = np.array([[0.1, 0.3], [0.2, 0.4]]) # 2*2\n",
    "    nw['b3'] = np.array([0.1, 0.2])\n",
    "\n",
    "    return nw"
   ]
  },
  {
   "cell_type": "code",
   "execution_count": 23,
   "metadata": {},
   "outputs": [],
   "source": [
    "# 出力層の実装\n",
    "## ここでは恒等関数を使用する\n",
    "\n",
    "def identity_func(x):\n",
    "    return x"
   ]
  },
  {
   "cell_type": "code",
   "execution_count": 24,
   "metadata": {},
   "outputs": [],
   "source": [
    "# 3層ニューラルネットワーク\n",
    "\n",
    "def l3_nn_forward(network, x):\n",
    "    w1, w2, w3 = network['w1'], network['w2'], network['w3']\n",
    "    b1, b2, b3 = network['b1'], network['b2'], network['b3']\n",
    "\n",
    "    #行列計算\n",
    "    in1 = np.dot(x, w1) + b1\n",
    "    out1 = sigmoid(in1)\n",
    "    in2 = np.dot(out1, w2) + b2\n",
    "    out2 = sigmoid(in2)\n",
    "    in3 = np.dot(out2, w3) + b3\n",
    "    out3 = identity_func(in3)\n",
    "\n",
    "    return out3"
   ]
  },
  {
   "cell_type": "code",
   "execution_count": 25,
   "metadata": {
    "tags": []
   },
   "outputs": [
    {
     "output_type": "stream",
     "name": "stdout",
     "text": "[0.31682708 0.69627909]\n"
    }
   ],
   "source": [
    "network = init_network()\n",
    "x = np.array([1.0, 0.5])\n",
    "y = l3_nn_forward(network, x)\n",
    "print(y)"
   ]
  },
  {
   "cell_type": "code",
   "execution_count": 31,
   "metadata": {},
   "outputs": [],
   "source": [
    "# softmax function\n",
    "# maxを引くのはp59参照\n",
    "def softmax(inp):\n",
    "    numerator = np.exp(inp - max(inp))\n",
    "    denominator = np.sum(numerator)\n",
    "    return numerator / denominator"
   ]
  },
  {
   "cell_type": "code",
   "execution_count": 30,
   "metadata": {},
   "outputs": [
    {
     "output_type": "execute_result",
     "data": {
      "text/plain": "array([0.09003057, 0.24472847, 0.66524096])"
     },
     "metadata": {},
     "execution_count": 30
    }
   ],
   "source": [
    "softmax(np.array([1, 2, 3]))"
   ]
  },
  {
   "cell_type": "markdown",
   "metadata": {},
   "source": []
  }
 ]
}