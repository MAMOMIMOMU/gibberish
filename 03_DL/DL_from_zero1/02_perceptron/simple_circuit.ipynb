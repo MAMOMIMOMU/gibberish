{
 "metadata": {
  "language_info": {
   "codemirror_mode": {
    "name": "ipython",
    "version": 3
   },
   "file_extension": ".py",
   "mimetype": "text/x-python",
   "name": "python",
   "nbconvert_exporter": "python",
   "pygments_lexer": "ipython3",
   "version": "3.7.7-final"
  },
  "orig_nbformat": 2,
  "kernelspec": {
   "name": "python37764bitstatisticsconda612f86d1608142cbba34fcd3705cfeb9",
   "display_name": "Python 3.7.7 64-bit ('Statistics': conda)"
  }
 },
 "nbformat": 4,
 "nbformat_minor": 2,
 "cells": [
  {
   "cell_type": "code",
   "execution_count": 4,
   "metadata": {},
   "outputs": [],
   "source": [
    "# AND回路\n",
    "import numpy as np \n",
    "def and_func2(x1, x2):\n",
    "    weight = np.array([0.5, 0.5])\n",
    "    x = np.array([x1, x2])\n",
    "    bias = -0.7\n",
    "    if np.sum(weight * x) + bias <= 0:\n",
    "        return 0\n",
    "    else:\n",
    "        return 1"
   ]
  },
  {
   "cell_type": "code",
   "execution_count": 8,
   "metadata": {},
   "outputs": [],
   "source": [
    "# NAND回路\n",
    "def nand_func(x1, x2):\n",
    "    weight = np.array([-0.5, -0.5])\n",
    "    x = np.array([x1, x2])\n",
    "    bias = 0.7\n",
    "    if np.sum(weight * x) + bias <= 0:\n",
    "        return 0\n",
    "    else:\n",
    "        return 1"
   ]
  },
  {
   "cell_type": "code",
   "execution_count": 9,
   "metadata": {},
   "outputs": [],
   "source": [
    "# OR回路\n",
    "def or_func(x1, x2):\n",
    "    weight = np.array([0.5, 0.5])\n",
    "    x = np.array([x1, x2])\n",
    "    bias = -0.3\n",
    "    if np.sum(weight * x) + bias <= 0:\n",
    "        return 0\n",
    "    else:\n",
    "        return 1"
   ]
  },
  {
   "cell_type": "code",
   "execution_count": 10,
   "metadata": {
    "tags": []
   },
   "outputs": [
    {
     "output_type": "stream",
     "name": "stdout",
     "text": "0\n1\n1\n1\n"
    }
   ],
   "source": [
    "print(or_func(0, 0))\n",
    "print(or_func(1, 0))\n",
    "print(or_func(0, 1))\n",
    "print(or_func(1, 1))"
   ]
  },
  {
   "cell_type": "code",
   "execution_count": 17,
   "metadata": {},
   "outputs": [],
   "source": [
    "# XOR回路\n",
    "def xor_func(x1, x2):\n",
    "    out1 = nand_func(x1, x2)\n",
    "    out2 = or_func(x1, x2)\n",
    "    out3 = and_func(out1, out2)\n",
    "    return out3"
   ]
  },
  {
   "cell_type": "code",
   "execution_count": 18,
   "metadata": {
    "tags": []
   },
   "outputs": [
    {
     "output_type": "stream",
     "name": "stdout",
     "text": "0\n1\n1\n0\n"
    }
   ],
   "source": [
    "print(xor_func(0, 0))\n",
    "print(xor_func(1, 0))\n",
    "print(xor_func(0, 1))\n",
    "print(xor_func(1, 1))"
   ]
  }
 ]
}